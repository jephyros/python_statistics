{
 "cells": [
  {
   "cell_type": "code",
   "execution_count": 1,
   "metadata": {},
   "outputs": [],
   "source": [
    "class DisjointSets(object):\n",
    "    def __init__(self,n):\n",
    "        self.sets = [-1]*n\n",
    "        self.counter = n\n",
    "    def parent(self,i):\n",
    "        while True:\n",
    "            j = self.sets[i]\n",
    "            if j<0:\n",
    "                return i\n",
    "            i = j\n",
    "    def join(self,i,j):\n",
    "        i,j = self.parent(i),self.parent(j)\n",
    "        if i!=j:\n",
    "            self.sets[i] += self.sets[j]\n",
    "            self.sets[j] = i\n",
    "            return True\n",
    "        return False\n",
    "    def joined(self,i,j):\n",
    "        return self.parent(i) == self.parent(j)\n",
    "    def __len__(self):\n",
    "        return self.counter\n",
    "    "
   ]
  },
  {
   "cell_type": "code",
   "execution_count": 22,
   "metadata": {},
   "outputs": [],
   "source": [
    "import random\n",
    "\n",
    "def make_mage(n,d):\n",
    "    walls = [(i,i+n**j) for i in range(n**2) for j in range(d) if (i/n**j)%n+1 < n]\n",
    "    torn_down_walls =[]\n",
    "    ds = DisjointSets(n**d)\n",
    "    random.shuffle(walls)\n",
    "    for i,wall in enumerate(walls):\n",
    "        if ds.join(wall[0],wall[1]):\n",
    "            torn_down_walls.append(wall)\n",
    "        if len(ds) ==1:\n",
    "            break\n",
    "    walls = [wall for wall in walls if not wall in torn_down_walls]\n",
    "    return walls, torn_down_walls\n",
    "    "
   ]
  },
  {
   "cell_type": "code",
   "execution_count": 54,
   "metadata": {},
   "outputs": [],
   "source": [
    "walls, torn_down_walls = make_mage(n=4,d=2)"
   ]
  },
  {
   "cell_type": "code",
   "execution_count": 55,
   "metadata": {},
   "outputs": [
    {
     "data": {
      "image/png": "[encoded data removed]",
      "text/plain": [
       "<Figure size 432x288 with 1 Axes>"
      ]
     },
     "metadata": {
      "needs_background": "light"
     },
     "output_type": "display_data"
    }
   ],
   "source": [
    "import matplotlib.pyplot as plt\n",
    "import numpy as np\n",
    "x = np.array(walls)\n",
    "y = np.array(torn_down_walls)\n",
    "\n",
    "plt.scatter(x[:,0],x[:,1])\n",
    "plt.scatter(y[:,0],y[:,1])\n",
    "plt.show()\n",
    "\n",
    "\n",
    "\n"
   ]
  },
  {
   "cell_type": "code",
   "execution_count": 57,
   "metadata": {},
   "outputs": [
    {
     "name": "stdout",
     "output_type": "stream",
     "text": [
      "[(13, 14), (5, 9), (8, 12), (14, 15), (2, 3), (2, 6), (4, 8), (0, 4), (7, 11)]\n",
      "[(9, 10), (11, 15), (5, 6), (12, 13), (1, 5), (6, 10), (6, 7), (1, 2), (8, 9), (9, 13), (10, 14), (3, 7), (10, 11), (0, 1), (4, 5)]\n"
     ]
    }
   ],
   "source": [
    "print (walls)\n",
    "print (torn_down_walls)\n"
   ]
  },
  {
   "cell_type": "code",
   "execution_count": 60,
   "metadata": {},
   "outputs": [
    {
     "name": "stdout",
     "output_type": "stream",
     "text": [
      "[(0, 1), (0, 4), (1, 2), (1, 5), (2, 3), (2, 6), (3, 7), (4, 5), (4, 8), (5, 6), (5, 9), (6, 7), (6, 10), (7, 11), (8, 9), (8, 12), (9, 10), (9, 13), (10, 11), (10, 14), (11, 15), (12, 13), (13, 14), (14, 15)]\n"
     ]
    }
   ],
   "source": [
    "walls = [(i,i+4**j) for i in range(4**2) for j in range(2) if (i/4**j)%4+1 < 4]\n",
    "print (walls)\n"
   ]
  },
  {
   "cell_type": "code",
   "execution_count": null,
   "metadata": {},
   "outputs": [],
   "source": []
  }
 ],
 "metadata": {
  "kernelspec": {
   "display_name": "Python 3",
   "language": "python",
   "name": "python3"
  },
  "language_info": {
   "codemirror_mode": {
    "name": "ipython",
    "version": 3
   },
   "file_extension": ".py",
   "mimetype": "text/x-python",
   "name": "python",
   "nbconvert_exporter": "python",
   "pygments_lexer": "ipython3",
   "version": "3.7.6"
  }
 },
 "nbformat": 4,
 "nbformat_minor": 4
}
