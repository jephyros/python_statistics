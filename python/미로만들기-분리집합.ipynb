{
 "cells": [
  {
   "cell_type": "code",
   "execution_count": 1,
   "metadata": {},
   "outputs": [],
   "source": [
    "class DisjointSets(object):\n",
    "    def __init__(self,n):\n",
    "        self.sets = [-1]*n\n",
    "        self.counter = n\n",
    "    def parent(self,i):\n",
    "        while True:\n",
    "            j = self.sets[i]\n",
    "            if j<0:\n",
    "                return i\n",
    "            i = j\n",
    "    def join(self,i,j):\n",
    "        i,j = self.parent(i),self.parent(j)\n",
    "        if i!=j:\n",
    "            self.sets[i] += self.sets[j]\n",
    "            self.sets[j] = i\n",
    "            return True\n",
    "        return False\n",
    "    def joined(self,i,j):\n",
    "        return self.parent(i) == self.parent(j)\n",
    "    def __len__(self):\n",
    "        return self.counter\n",
    "    "
   ]
  },
  {
   "cell_type": "code",
   "execution_count": 2,
   "metadata": {},
   "outputs": [],
   "source": [
    "import random\n",
    "\n",
    "def make_mage(n,d):\n",
    "    walls = [(i,i+n**j) for i in range(n**2) for j in range(d) if (i/n**j)%n+1 < n]\n",
    "    torn_down_walls =[]\n",
    "    ds = DisjointSets(n**d)\n",
    "    random.shuffle(walls)\n",
    "    for i,wall in enumerate(walls):\n",
    "        if ds.join(wall[0],wall[1]):\n",
    "            torn_down_walls.append(wall)\n",
    "        if len(ds) ==1:\n",
    "            break\n",
    "    walls = [wall for wall in walls if not wall in torn_down_walls]\n",
    "    return walls, torn_down_walls\n",
    "    "
   ]
  },
  {
   "cell_type": "code",
   "execution_count": 70,
   "metadata": {},
   "outputs": [],
   "source": [
    "walls, torn_down_walls = make_mage(n=20,d=2)"
   ]
  },
  {
   "cell_type": "code",
   "execution_count": 76,
   "metadata": {},
   "outputs": [
    {
     "data": {
      "image/png": "[encoded data removed]",
      "text/plain": [
       "<Figure size 432x288 with 1 Axes>"
      ]
     },
     "metadata": {
      "needs_background": "light"
     },
     "output_type": "display_data"
    }
   ],
   "source": [
    "import matplotlib.pyplot as plt\n",
    "import numpy as np\n",
    "\n",
    "n = 20;\n",
    "\n",
    "p = np.array(walls)\n",
    "point = np.zeros(shape=(p.shape[0],4), dtype=np.int64)\n",
    "                         \n",
    "\n",
    "for i in range(p.shape[0]):\n",
    "    if p[i,1] - p[i,0] == 1:\n",
    "        p[i,1] = 1\n",
    "        point[i,0] = p[i,0] % n \n",
    "        point[i,1] = p[i,0] / n \n",
    "        point[i,2] = point[i,0] +1 \n",
    "        point[i,3] = point[i,1]      \n",
    "        \n",
    "\n",
    "        \n",
    "    else:\n",
    "        p[i,1] = -1\n",
    "        point[i,0] = p[i,0] % n \n",
    "        point[i,1] = p[i,0] / n \n",
    "        point[i,2] = point[i,0]\n",
    "        point[i,3] = point[i,1] +1\n",
    "        \n",
    "for i in range(point.shape[0]):\n",
    "    plt.plot([point[i,0], point[i,2]], [point[i,1], point[i,3]],color=\"blue\")\n",
    "    \n",
    "\n",
    "p = np.array(torn_down_walls)\n",
    "point = np.zeros(shape=(p.shape[0],4), dtype=np.int64)\n",
    "\n",
    "                         \n",
    "                         \n",
    "\n",
    "for i in range(p.shape[0]):\n",
    "    if p[i,1] - p[i,0] == 1:\n",
    "        p[i,1] = 1\n",
    "        point[i,0] = p[i,0] % n \n",
    "        point[i,1] = p[i,0] / n \n",
    "        point[i,2] = point[i,0] +1 \n",
    "        point[i,3] = point[i,1]      \n",
    "        \n",
    "\n",
    "        \n",
    "    else:\n",
    "        p[i,1] = -1\n",
    "        point[i,0] = p[i,0] % n \n",
    "        point[i,1] = p[i,0] / n \n",
    "        point[i,2] = point[i,0]\n",
    "        point[i,3] = point[i,1] +1\n",
    "        \n",
    "for i in range(point.shape[0]):\n",
    "    x = 1\n",
    "    #plt.plot([point[i,0], point[i,2]], [point[i,1], point[i,3]],color=\"red\")\n",
    "    \n",
    "plt.show()\n",
    "\n",
    "\n",
    "\n",
    "\n",
    "\n",
    "\n"
   ]
  },
  {
   "cell_type": "code",
   "execution_count": null,
   "metadata": {},
   "outputs": [],
   "source": []
  }
 ],
 "metadata": {
  "kernelspec": {
   "display_name": "Python 3",
   "language": "python",
   "name": "python3"
  },
  "language_info": {
   "codemirror_mode": {
    "name": "ipython",
    "version": 3
   },
   "file_extension": ".py",
   "mimetype": "text/x-python",
   "name": "python",
   "nbconvert_exporter": "python",
   "pygments_lexer": "ipython3",
   "version": "3.7.6"
  }
 },
 "nbformat": 4,
 "nbformat_minor": 4
}
