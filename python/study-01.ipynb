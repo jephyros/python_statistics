{
 "cells": [
  {
   "cell_type": "code",
   "execution_count": 1,
   "id": "636b8637",
   "metadata": {},
   "outputs": [],
   "source": [
    "class MyClass(object):\n",
    "    pass\n"
   ]
  },
  {
   "cell_type": "code",
   "execution_count": 2,
   "id": "c68e0e13",
   "metadata": {},
   "outputs": [],
   "source": [
    "myinstance = MyClass()"
   ]
  },
  {
   "cell_type": "code",
   "execution_count": 5,
   "id": "a5bd9e71",
   "metadata": {},
   "outputs": [],
   "source": [
    "myinstance.myvariable = 4"
   ]
  },
  {
   "cell_type": "code",
   "execution_count": 7,
   "id": "d9d5f6ea",
   "metadata": {},
   "outputs": [
    {
     "name": "stdout",
     "output_type": "stream",
     "text": [
      "4\n"
     ]
    }
   ],
   "source": [
    "print(myinstance.myvariable)\n"
   ]
  },
  {
   "cell_type": "code",
   "execution_count": 12,
   "id": "bf072124",
   "metadata": {},
   "outputs": [
    {
     "name": "stdout",
     "output_type": "stream",
     "text": [
      "10\n",
      "25\n"
     ]
    }
   ],
   "source": [
    "class Complex(object):\n",
    "    z = 2\n",
    "    def __init__(self,real =0.0,imag=0.0):\n",
    "        self.real , self.imag = real, imag\n",
    "    def magnitude(self):\n",
    "        return(self.real**2 + self.imag**2)**0.5\n",
    "    def __add__(self,other):\n",
    "        return Complex(self.real+other.real , self.imag+other.imag)\n",
    "a = Complex(1,3)\n",
    "b = Complex(2,1)\n",
    "\n",
    "c = a + b\n",
    "print (a.magnitude())\n",
    "print(c.magnitude())\n",
    "        "
   ]
  },
  {
   "cell_type": "code",
   "execution_count": 16,
   "id": "156e4727",
   "metadata": {},
   "outputs": [],
   "source": [
    "a =list((1,2,3))"
   ]
  },
  {
   "cell_type": "code",
   "execution_count": 17,
   "id": "4325c343",
   "metadata": {},
   "outputs": [
    {
     "data": {
      "text/plain": [
       "3"
      ]
     },
     "execution_count": 17,
     "metadata": {},
     "output_type": "execute_result"
    }
   ],
   "source": [
    "len(a)"
   ]
  },
  {
   "cell_type": "code",
   "execution_count": 21,
   "id": "dc930260",
   "metadata": {},
   "outputs": [
    {
     "name": "stdout",
     "output_type": "stream",
     "text": [
      "4\n",
      "[3, 7, 5]\n"
     ]
    }
   ],
   "source": [
    "class Mylist(object):\n",
    "    def __init__(self, *a): self.a = list(a)\n",
    "    def __len__(self): return len(self.a)\n",
    "    def __getitem__(self, key): return self.a[key]\n",
    "    def __setitem__(self,key,value) : self.a[key] = value\n",
    "b = Mylist(3,4,5)\n",
    "print(b[1])\n",
    "\n",
    "b.a[1] = 7\n",
    "\n",
    "print (b.a)\n"
   ]
  },
  {
   "cell_type": "code",
   "execution_count": null,
   "id": "6266c4aa",
   "metadata": {},
   "outputs": [],
   "source": []
  }
 ],
 "metadata": {
  "kernelspec": {
   "display_name": "Python 3",
   "language": "python",
   "name": "python3"
  },
  "language_info": {
   "codemirror_mode": {
    "name": "ipython",
    "version": 3
   },
   "file_extension": ".py",
   "mimetype": "text/x-python",
   "name": "python",
   "nbconvert_exporter": "python",
   "pygments_lexer": "ipython3",
   "version": "3.8.8"
  }
 },
 "nbformat": 4,
 "nbformat_minor": 5
}
