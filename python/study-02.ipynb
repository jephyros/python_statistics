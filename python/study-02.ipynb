{
 "cells": [
  {
   "cell_type": "code",
   "execution_count": 1,
   "id": "fd3d55c4",
   "metadata": {},
   "outputs": [],
   "source": [
    "from datetime import date\n",
    "from math import exp\n",
    "today = date.today()\n",
    "r_free = 0.05 / 365"
   ]
  },
  {
   "cell_type": "code",
   "execution_count": 2,
   "id": "c239c92e",
   "metadata": {},
   "outputs": [],
   "source": [
    "class FinancialTransaction(object):\n",
    "    def __init__(self,t,a,description=''):\n",
    "        self.t = t\n",
    "        self.a = a\n",
    "        self.description = description\n",
    "    def pv(self,t0 = today, r=r_free):\n",
    "        return self.a*exp(r*(t0-self.t).days)\n",
    "    def __str__(self):\n",
    "        return '%.2f dollars in %i days (%s)' % (self.a,self.t, self.description)\n",
    "    "
   ]
  },
  {
   "cell_type": "code",
   "execution_count": 11,
   "id": "73268132",
   "metadata": {},
   "outputs": [],
   "source": [
    "class CashFlow(object):\n",
    "    def __init__(self):\n",
    "        self.transaction = []\n",
    "    def add(self,transaction):\n",
    "        self.transaction.append(transaction)\n",
    "    def pv(self, t0, r=r_free):\n",
    "        return sum(x.pv(t0,r) for x in self.transaction)\n",
    "    def __str__(self):\n",
    "        return 'in'.join(str(x) for x in self.transaction)\n",
    "    "
   ]
  },
  {
   "cell_type": "code",
   "execution_count": 15,
   "id": "06c2dc9b",
   "metadata": {},
   "outputs": [
    {
     "name": "stdout",
     "output_type": "stream",
     "text": [
      "21729.0\n"
     ]
    }
   ],
   "source": [
    "bond = CashFlow()\n",
    "today = date(2012,1,1)\n",
    "for year in range(2012,2014):\n",
    "    for month in range(1,13):\n",
    "        coupon = FinancialTransaction(date(year,month,20),1000)\n",
    "        bond.add(coupon)\n",
    "print (round(bond.pv(today,r=0.1/365),0))"
   ]
  },
  {
   "cell_type": "code",
   "execution_count": null,
   "id": "649bb547",
   "metadata": {},
   "outputs": [],
   "source": []
  }
 ],
 "metadata": {
  "kernelspec": {
   "display_name": "Python 3",
   "language": "python",
   "name": "python3"
  },
  "language_info": {
   "codemirror_mode": {
    "name": "ipython",
    "version": 3
   },
   "file_extension": ".py",
   "mimetype": "text/x-python",
   "name": "python",
   "nbconvert_exporter": "python",
   "pygments_lexer": "ipython3",
   "version": "3.8.8"
  }
 },
 "nbformat": 4,
 "nbformat_minor": 5
}
